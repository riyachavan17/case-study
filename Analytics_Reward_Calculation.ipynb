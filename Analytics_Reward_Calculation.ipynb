{
 "cells": [
  {
   "cell_type": "code",
   "execution_count": 12,
   "id": "d605d158",
   "metadata": {},
   "outputs": [],
   "source": [
    "import pandas as pd\n",
    "\n",
    "# Load Excel file\n",
    "file_path = \"C:/Users/riyac/Downloads/Analytics Position Case Study.xlsx\"\n",
    "xls = pd.ExcelFile(file_path)\n"
   ]
  },
  {
   "cell_type": "code",
   "execution_count": 13,
   "id": "6da7f2d3",
   "metadata": {},
   "outputs": [
    {
     "name": "stdout",
     "output_type": "stream",
     "text": [
      "Gameplay Data:\n",
      "   User ID  Games Played             Datetime\n",
      "0      851             1  2022-01-10 00:00:00\n",
      "1      717             1  2022-01-10 00:00:00\n",
      "2      456             1  2022-01-10 00:00:00\n",
      "3      424             1  2022-01-10 00:00:00\n",
      "4      845             1  2022-01-10 00:00:00\n",
      "Deposit Data:\n",
      "   User Id             Datetime  Amount\n",
      "0      357  2022-01-10 00:03:00    2000\n",
      "1      776  2022-01-10 00:03:00    2500\n",
      "2      492  2022-01-10 00:06:00    5000\n",
      "3      803  2022-01-10 00:07:00    5000\n",
      "4      875  2022-01-10 00:09:00    1500\n",
      "Withdrawal Data:\n",
      "   User Id             Datetime  Amount\n",
      "0      190  2022-01-10 00:03:00    5872\n",
      "1      159  2022-01-10 00:16:00    9540\n",
      "2      164  2022-01-10 00:24:00     815\n",
      "3      946  2022-01-10 00:29:00   23000\n",
      "4      763  2022-01-10 00:40:00    9473\n"
     ]
    }
   ],
   "source": [
    "# Load all sheets\n",
    "gameplay_df = xls.parse(\"User Gameplay data\", skiprows=3)\n",
    "deposit_df = xls.parse(\"Deposit Data\", skiprows=3)\n",
    "withdrawal_df = xls.parse(\"Withdrawal Data\", skiprows=3)\n",
    "\n",
    "# Preview\n",
    "print(\"Gameplay Data:\")\n",
    "print(gameplay_df.head())\n",
    "\n",
    "print(\"Deposit Data:\")\n",
    "print(deposit_df.head())\n",
    "\n",
    "print(\"Withdrawal Data:\")\n",
    "print(withdrawal_df.head())\n"
   ]
  },
  {
   "cell_type": "code",
   "execution_count": 14,
   "id": "bf4c2b75",
   "metadata": {},
   "outputs": [],
   "source": [
    "# Rename columns for clarity\n",
    "gameplay_df.columns = [\"User_ID\", \"Games_Played\", \"Datetime\"]\n",
    "deposit_df.columns = [\"User_ID\", \"Datetime\", \"Amount\"]\n",
    "withdrawal_df.columns = [\"User_ID\", \"Datetime\", \"Amount\"]\n",
    "\n",
    "# Convert datetime columns\n",
    "gameplay_df[\"Datetime\"] = pd.to_datetime(gameplay_df[\"Datetime\"])\n",
    "deposit_df[\"Datetime\"] = pd.to_datetime(deposit_df[\"Datetime\"])\n",
    "withdrawal_df[\"Datetime\"] = pd.to_datetime(withdrawal_df[\"Datetime\"])\n"
   ]
  },
  {
   "cell_type": "code",
   "execution_count": 15,
   "id": "8b7a2c1d",
   "metadata": {},
   "outputs": [],
   "source": [
    "# Gameplay points\n",
    "gameplay_points = gameplay_df.groupby(\"User_ID\")[\"Games_Played\"].sum().reset_index()\n",
    "gameplay_points[\"Gameplay_Points\"] = gameplay_points[\"Games_Played\"] * 1\n",
    "gameplay_points.drop(columns=\"Games_Played\", inplace=True)\n",
    "\n",
    "# Deposit points\n",
    "deposit_points = deposit_df.groupby(\"User_ID\")[\"Amount\"].sum().reset_index()\n",
    "deposit_points[\"Deposit_Points\"] = deposit_points[\"Amount\"] * 0.01\n",
    "deposit_points.drop(columns=\"Amount\", inplace=True)\n",
    "\n",
    "# Withdrawal points\n",
    "withdrawal_points = withdrawal_df.groupby(\"User_ID\")[\"Amount\"].sum().reset_index()\n",
    "withdrawal_points[\"Withdrawal_Points\"] = withdrawal_points[\"Amount\"] * 0.005\n",
    "withdrawal_points.drop(columns=\"Amount\", inplace=True)\n"
   ]
  },
  {
   "cell_type": "code",
   "execution_count": 16,
   "id": "2ded1ca3",
   "metadata": {},
   "outputs": [
    {
     "data": {
      "text/html": [
       "<div>\n",
       "<style scoped>\n",
       "    .dataframe tbody tr th:only-of-type {\n",
       "        vertical-align: middle;\n",
       "    }\n",
       "\n",
       "    .dataframe tbody tr th {\n",
       "        vertical-align: top;\n",
       "    }\n",
       "\n",
       "    .dataframe thead th {\n",
       "        text-align: right;\n",
       "    }\n",
       "</style>\n",
       "<table border=\"1\" class=\"dataframe\">\n",
       "  <thead>\n",
       "    <tr style=\"text-align: right;\">\n",
       "      <th></th>\n",
       "      <th>User_ID</th>\n",
       "      <th>Gameplay_Points</th>\n",
       "      <th>Deposit_Points</th>\n",
       "      <th>Withdrawal_Points</th>\n",
       "      <th>Total_Points</th>\n",
       "    </tr>\n",
       "  </thead>\n",
       "  <tbody>\n",
       "    <tr>\n",
       "      <th>634</th>\n",
       "      <td>634</td>\n",
       "      <td>24</td>\n",
       "      <td>5150.00</td>\n",
       "      <td>78688.525</td>\n",
       "      <td>83862.525</td>\n",
       "    </tr>\n",
       "    <tr>\n",
       "      <th>765</th>\n",
       "      <td>765</td>\n",
       "      <td>24097</td>\n",
       "      <td>0.00</td>\n",
       "      <td>155.000</td>\n",
       "      <td>24252.000</td>\n",
       "    </tr>\n",
       "    <tr>\n",
       "      <th>99</th>\n",
       "      <td>99</td>\n",
       "      <td>10</td>\n",
       "      <td>11648.00</td>\n",
       "      <td>12015.705</td>\n",
       "      <td>23673.705</td>\n",
       "    </tr>\n",
       "    <tr>\n",
       "      <th>672</th>\n",
       "      <td>672</td>\n",
       "      <td>10</td>\n",
       "      <td>21587.00</td>\n",
       "      <td>1168.750</td>\n",
       "      <td>22765.750</td>\n",
       "    </tr>\n",
       "    <tr>\n",
       "      <th>212</th>\n",
       "      <td>212</td>\n",
       "      <td>1</td>\n",
       "      <td>19249.81</td>\n",
       "      <td>2949.250</td>\n",
       "      <td>22200.060</td>\n",
       "    </tr>\n",
       "  </tbody>\n",
       "</table>\n",
       "</div>"
      ],
      "text/plain": [
       "     User_ID  Gameplay_Points  Deposit_Points  Withdrawal_Points  Total_Points\n",
       "634      634               24         5150.00          78688.525     83862.525\n",
       "765      765            24097            0.00            155.000     24252.000\n",
       "99        99               10        11648.00          12015.705     23673.705\n",
       "672      672               10        21587.00           1168.750     22765.750\n",
       "212      212                1        19249.81           2949.250     22200.060"
      ]
     },
     "execution_count": 16,
     "metadata": {},
     "output_type": "execute_result"
    }
   ],
   "source": [
    "# Merge all data\n",
    "user_points = pd.merge(gameplay_points, deposit_points, on=\"User_ID\", how=\"outer\")\n",
    "user_points = pd.merge(user_points, withdrawal_points, on=\"User_ID\", how=\"outer\")\n",
    "\n",
    "# Fill NaNs with 0\n",
    "user_points.fillna(0, inplace=True)\n",
    "\n",
    "# Total points\n",
    "user_points[\"Total_Points\"] = user_points[\"Gameplay_Points\"] + user_points[\"Deposit_Points\"] + user_points[\"Withdrawal_Points\"]\n",
    "\n",
    "# Final output\n",
    "user_points.sort_values(\"Total_Points\", ascending=False).head()\n"
   ]
  },
  {
   "cell_type": "code",
   "execution_count": 17,
   "id": "d7c2fe42",
   "metadata": {},
   "outputs": [
    {
     "name": "stdout",
     "output_type": "stream",
     "text": [
      "Saved as 'user_reward_points.csv'\n"
     ]
    }
   ],
   "source": [
    "# Save the result to Excel or CSV\n",
    "user_points.to_csv(\"user_reward_points.csv\", index=False)\n",
    "print(\"Saved as 'user_reward_points.csv'\")\n"
   ]
  },
  {
   "cell_type": "code",
   "execution_count": null,
   "id": "b95cb1e9-02a0-4a41-abbd-5197f1e32e10",
   "metadata": {},
   "outputs": [],
   "source": []
  },
  {
   "cell_type": "code",
   "execution_count": null,
   "id": "bf164714-cf39-466d-808a-9905b8ea8c2a",
   "metadata": {},
   "outputs": [],
   "source": []
  },
  {
   "cell_type": "code",
   "execution_count": null,
   "id": "7691200f-8cb4-40ab-8cc9-a842d52bd783",
   "metadata": {},
   "outputs": [],
   "source": []
  }
 ],
 "metadata": {
  "kernelspec": {
   "display_name": "Python 3 (ipykernel)",
   "language": "python",
   "name": "python3"
  },
  "language_info": {
   "codemirror_mode": {
    "name": "ipython",
    "version": 3
   },
   "file_extension": ".py",
   "mimetype": "text/x-python",
   "name": "python",
   "nbconvert_exporter": "python",
   "pygments_lexer": "ipython3",
   "version": "3.12.7"
  }
 },
 "nbformat": 4,
 "nbformat_minor": 5
}
